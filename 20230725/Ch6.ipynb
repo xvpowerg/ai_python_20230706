{
 "cells": [
  {
   "cell_type": "markdown",
   "id": "d0c1d4c9",
   "metadata": {},
   "source": [
    "## 作業\n",
    "\n",
    "設計錢包總金額為 1000 元，\n",
    "\n",
    "如果購買商品總金額超過 1000 \n",
    "\n",
    "會引發一個金額不足的例外 ValueError"
   ]
  },
  {
   "cell_type": "code",
   "execution_count": 2,
   "id": "b8df2205",
   "metadata": {},
   "outputs": [
    {
     "name": "stdout",
     "output_type": "stream",
     "text": [
      "消費項目AA\n",
      "消費金額100\n",
      "消費項目BB\n",
      "消費金額200\n",
      "消費項目CC\n",
      "消費金額500\n",
      "消費項目DD\n",
      "消費金額200\n",
      "消費項目GG\n",
      "消費金額1\n",
      "已經超支了\n"
     ]
    }
   ],
   "source": [
    "sum=0\n",
    "dic1 = {}\n",
    "while True:\n",
    "    item = input(\"消費項目\")\n",
    "    price = input(\"消費金額\")   \n",
    "    try:\n",
    "        if  sum+ int(price) > 1000:\n",
    "            raise ValueError\n",
    "        dic1[item] = price            \n",
    "        sum+=int(price)   \n",
    "    except ValueError:\n",
    "         print('已經超支了')\n",
    "         break   "
   ]
  },
  {
   "cell_type": "code",
   "execution_count": 4,
   "id": "4d5531bc",
   "metadata": {},
   "outputs": [
    {
     "name": "stdout",
     "output_type": "stream",
     "text": [
      "Start K: 1\n",
      "K Value: 1\n",
      "K Value: 2\n",
      "K Value: 3\n",
      "K Value: 4\n",
      "End K: 1\n",
      "Start K: 2\n",
      "K Value: 1\n",
      "K Value: 2\n",
      "K Value: 3\n",
      "K Value: 4\n",
      "End K: 2\n",
      "Start K: 3\n",
      "K Value: 1\n",
      "End K: 3\n",
      "Start K: 4\n",
      "K Value: 1\n",
      "K Value: 2\n",
      "K Value: 3\n",
      "K Value: 4\n",
      "End K: 4\n"
     ]
    }
   ],
   "source": [
    "for i in range(1,5):\n",
    "    print(\"Start K:\",i)\n",
    "    for k in range(1,5):\n",
    "        print(\"K Value:\",k)\n",
    "        if i == 3:\n",
    "            break\n",
    "    print(\"End K:\",i)    "
   ]
  },
  {
   "cell_type": "code",
   "execution_count": 9,
   "id": "ea643617",
   "metadata": {},
   "outputs": [
    {
     "name": "stdout",
     "output_type": "stream",
     "text": [
      "Start K: 1\n",
      "K Value: 1\n",
      "K Value: 2\n",
      "K Value: 3\n",
      "K Value: 4\n",
      "End K: 1\n",
      "Start K: 2\n",
      "K Value: 1\n",
      "K Value: 2\n",
      "K Value: 3\n",
      "K Value: 4\n",
      "End K: 2\n",
      "Start K: 3\n",
      "K Value: 1\n",
      "離開迴圈\n"
     ]
    }
   ],
   "source": [
    "try:    \n",
    "    for i in range(1,5):\n",
    "        print(\"Start K:\",i)\n",
    "        for k in range(1,5):\n",
    "            print(\"K Value:\",k)\n",
    "            if i == 3:\n",
    "                raise ValueError\n",
    "        print(\"End K:\",i)    \n",
    "except:\n",
    "    print(\"離開迴圈\")"
   ]
  },
  {
   "cell_type": "markdown",
   "id": "227e0bd3",
   "metadata": {},
   "source": [
    "## 方法覆寫"
   ]
  },
  {
   "cell_type": "code",
   "execution_count": 17,
   "id": "378bb241",
   "metadata": {},
   "outputs": [
    {
     "name": "stdout",
     "output_type": "stream",
     "text": [
      "Bobo 吃\n",
      "Bobo 跑\n",
      "加速Kitty 跑\n",
      "會飛!!\n",
      "鳥類移動\n",
      "不會飛\n",
      "Gigi 跑\n",
      "鳥類的跑\n"
     ]
    }
   ],
   "source": [
    "class Animal:\n",
    "    def __init__(self,name,age = 10):\n",
    "        self.name = name\n",
    "        self.year = age\n",
    "    def run(self):     \n",
    "        print(self.name,\"跑\")\n",
    "    def eat(self):\n",
    "        print(self.name,\"吃\")\n",
    "class Cat2(Animal):\n",
    "    def accelerate(self):\n",
    "            print(\"加速\",end=\"\")\n",
    "            self.run()\n",
    "class Bird1(Animal):\n",
    "    def fly(self):\n",
    "        print(\"會飛!!\")\n",
    "    def run(self): #Override\n",
    "        print(\"鳥類移動\")\n",
    "class Bird2(Animal):      \n",
    "    def fly(self):\n",
    "        print(\"不會飛\")\n",
    "    def run(self):\n",
    "        super().run() #呼叫父類(Animal)的run\n",
    "        print(\"鳥類的跑\")\n",
    "a1 =  Animal(\"Bobo\")       \n",
    "a1.eat()\n",
    "a1.run()  \n",
    "\n",
    "cat1 = Cat2(\"Kitty\",5)\n",
    "cat1.accelerate()\n",
    "\n",
    "bird1 = Bird1(\"DoDo\",2)\n",
    "bird1.fly()\n",
    "bird1.run()\n",
    "bird2 = Bird2(\"Gigi\",3)\n",
    "bird2.fly()\n",
    "bird2.run()"
   ]
  },
  {
   "cell_type": "markdown",
   "id": "0a8e6a84",
   "metadata": {},
   "source": [
    "## 多重繼承與初始化方法\n",
    "### 多重繼承\n",
    "+ 繼承多個父類別時用，隔開\n",
    "+ 注意成員搜尋的順序\n",
    "  + 從子類別開始\n",
    "  + 同一階層父類別由左至右搜尋\n",
    "  + 更上層祖父類別由左至右搜尋\n",
    "  + 直到達到頂層為止"
   ]
  },
  {
   "cell_type": "code",
   "execution_count": 22,
   "id": "6a452546",
   "metadata": {},
   "outputs": [
    {
     "name": "stdout",
     "output_type": "stream",
     "text": [
      "C.method4\n",
      "A.method3\n",
      "B.method2\n",
      "S.method1\n"
     ]
    }
   ],
   "source": [
    "class S():\n",
    "    def method1(self):\n",
    "        print(\"S.method1\")\n",
    "    def method2(self):\n",
    "        print(\"S.method2\")\n",
    "class A(S):\n",
    "    def method3(self):\n",
    "        print(\"A.method3\")\n",
    "class B(S):\n",
    "    def method2(self):\n",
    "        print(\"B.method2\")  \n",
    "    def method3(self):\n",
    "        print(\"B.method3\")\n",
    "class C(A,B):\n",
    "    def method4(self):\n",
    "        print(\"C.method4\")\n",
    "c = C()\n",
    "c.method4()\n",
    "c.method3()\n",
    "c.method2()\n",
    "c.method1()"
   ]
  },
  {
   "cell_type": "markdown",
   "id": "1c63b05a",
   "metadata": {},
   "source": [
    "## 初始化方法"
   ]
  },
  {
   "cell_type": "code",
   "execution_count": 46,
   "id": "41db1c66",
   "metadata": {},
   "outputs": [
    {
     "name": "stdout",
     "output_type": "stream",
     "text": [
      "Person __init__\n",
      "Vivin Hello!\n",
      "Teacher __init__\n",
      "Person __init__\n",
      "Lucy Hello!\n"
     ]
    }
   ],
   "source": [
    "class Person:\n",
    "    def __init__(self,name=\"Ken\"):\n",
    "        print(\"Person __init__\")\n",
    "        self.name = name\n",
    "    def printInfo(self):\n",
    "        print(self.name,\"Hello!\")        \n",
    "        \n",
    "class Student(Person):\n",
    "     pass\n",
    "    \n",
    "class Teacher(Person):\n",
    "      def __init__(self,name=\"\"):#沒有複寫__init__()會自動呼叫父類別的__init__()\n",
    "            print(\"Teacher __init__\")\n",
    "            super().__init__(name)# 呼叫父類別的__init__()\n",
    "st1 = Student(\"Vivin\")    \n",
    "st1.printInfo()\n",
    "\n",
    "t1 = Teacher(\"Lucy\")\n",
    "t1.printInfo()"
   ]
  },
  {
   "cell_type": "markdown",
   "id": "aee7ecd2",
   "metadata": {},
   "source": [
    "## __str__ 可輸出物件的內容"
   ]
  },
  {
   "cell_type": "code",
   "execution_count": 47,
   "id": "edc21565",
   "metadata": {},
   "outputs": [
    {
     "name": "stdout",
     "output_type": "stream",
     "text": [
      "<__main__.Point object at 0x0000021EEE273520>\n",
      "<__main__.Point object at 0x0000021EEE273F70>\n"
     ]
    }
   ],
   "source": [
    "class Point:\n",
    "    def __init__(self,x = 0,y = 0):\n",
    "        self.x = x\n",
    "        self.y = y\n",
    "p1 = Point(2,3)        \n",
    "p2 = Point(-1,2)\n",
    "print(p1)\n",
    "print(p2)\n"
   ]
  },
  {
   "cell_type": "code",
   "execution_count": 51,
   "id": "a4ca0db9",
   "metadata": {},
   "outputs": [
    {
     "name": "stdout",
     "output_type": "stream",
     "text": [
      "(2,3)\n",
      "(2,3)\n",
      "(-1,2)\n"
     ]
    }
   ],
   "source": [
    "class Point:\n",
    "    def __init__(self,x = 0,y = 0):\n",
    "        self.x = x\n",
    "        self.y = y\n",
    "    def __str__(self):\n",
    "        return f\"({self.x},{self.y})\"\n",
    "p1 = Point(2,3)        \n",
    "p2 = Point(-1,2)\n",
    "print(str(p1))\n",
    "print(p1)\n",
    "print(p2)"
   ]
  },
  {
   "cell_type": "markdown",
   "id": "8a50d345",
   "metadata": {},
   "source": [
    "``` python\n",
    "__add__  +\n",
    "\n",
    "__iadd__  +=\n",
    "\n",
    "__sub__  -\n",
    "\n",
    "__isub__  -=\n",
    "\n",
    "__mul__  *\n",
    "\n",
    "__imul__  *=\n",
    "\n",
    "__truediv__   /\n",
    "\n",
    "__itruediv__   /=\n",
    "\n",
    "__floordiv__  //\n",
    "\n",
    "__ifloordiv__  //=\n",
    "\n",
    "__mod__  %\n",
    "\n",
    "__imod__  %=\n",
    "\n",
    "__pow__  **\n",
    "\n",
    "__ipow__  **=\n",
    "```"
   ]
  },
  {
   "cell_type": "code",
   "execution_count": 55,
   "id": "479c9a13",
   "metadata": {},
   "outputs": [
    {
     "name": "stdout",
     "output_type": "stream",
     "text": [
      "(2,3)\n",
      "(2,3)\n",
      "(-1,2)\n",
      "(1,5)\n"
     ]
    }
   ],
   "source": [
    "class Point:\n",
    "    def __init__(self,x = 0,y = 0):\n",
    "        self.x = x\n",
    "        self.y = y \n",
    "    def __str__(self):\n",
    "        return f\"({self.x},{self.y})\"\n",
    "    def __add__(self,other):\n",
    "        x = self.x + other.x\n",
    "        y = self.y + other.y\n",
    "        return Point(x,y)\n",
    "p1 = Point(2,3)        \n",
    "p2 = Point(-1,2)\n",
    "print(str(p1))\n",
    "print(p1)\n",
    "print(p2)\n",
    "print(p1 + p2)"
   ]
  },
  {
   "cell_type": "code",
   "execution_count": 79,
   "id": "e5fee6de",
   "metadata": {},
   "outputs": [
    {
     "name": "stdout",
     "output_type": "stream",
     "text": [
      "(2,3)\n",
      "13\n",
      "False\n",
      "True\n",
      "(1,1)\n",
      "(2,3)\n",
      "(4,9)\n"
     ]
    }
   ],
   "source": [
    "class Point:\n",
    "    def __init__(self,x = 0,y = 0):\n",
    "        self.x = x\n",
    "        self.y = y \n",
    "    def __str__(self):\n",
    "        return f\"({self.x},{self.y})\"\n",
    "    def __add__(self,other):\n",
    "        x = self.x + other.x\n",
    "        y = self.y + other.y\n",
    "        return Point(x,y)\n",
    "    def __len__(point):#長度\n",
    "        slef_msg = (point.x ** 2) + (point.y ** 2)\n",
    "        return slef_msg\n",
    "    def __lt__(self,other): #比小\n",
    "        self_msg = len(self)\n",
    "        other_msg = len(other)\n",
    "#         print(\"self_msg:\",self_msg)\n",
    "#         print(\"other_msg:\",other_msg)\n",
    "#         print(\"================\")\n",
    "        return self_msg < other_msg\n",
    "    def __gt__(self,other): #比大\n",
    "        self_msg = len(self)\n",
    "        other_msg = len(other)\n",
    "#         print(\"self_msg:\",self_msg)\n",
    "#         print(\"other_msg:\",other_msg)\n",
    "#         print(\"================\")\n",
    "        return self_msg > other_msg\n",
    "p1 = Point(2,3)    \n",
    "p2 = Point(1,1)   \n",
    "p3 = Point(4,9) \n",
    "print(p1)\n",
    "print(len(p1))\n",
    "print(p1 < p2)\n",
    "print(p1 > p2)\n",
    "#排序\n",
    "myList = [p3,p2,p1]\n",
    "myList.sort()\n",
    "for v in myList:\n",
    "    print(v)"
   ]
  },
  {
   "cell_type": "markdown",
   "id": "e73d46f6",
   "metadata": {},
   "source": [
    "## 目錄管理\n",
    "\n",
    "我們可以使用 os 模組的 getcwd() 方法獲取當前工作目錄。\n",
    "\n",
    "此方法以字串形式返回當前工作目錄。 \n",
    "\n",
    "請動手操作，並留意輸出結果\n"
   ]
  },
  {
   "cell_type": "code",
   "execution_count": 80,
   "id": "68da0d1c",
   "metadata": {},
   "outputs": [
    {
     "name": "stdout",
     "output_type": "stream",
     "text": [
      "C:\\Users\\xvpow\\aipython20230706\n"
     ]
    }
   ],
   "source": [
    "import os\n",
    "print(os.getcwd())"
   ]
  },
  {
   "cell_type": "markdown",
   "id": "7041085a",
   "metadata": {},
   "source": [
    "## 切換目錄\n"
   ]
  },
  {
   "cell_type": "code",
   "execution_count": 2,
   "id": "dcc3f2a0",
   "metadata": {},
   "outputs": [
    {
     "name": "stdout",
     "output_type": "stream",
     "text": [
      "C:\\Users\\xvpow\\aipython20230706\n",
      "C:\\Users\\xvpow\\aipython20230706\\Media\n"
     ]
    }
   ],
   "source": [
    "import os\n",
    "print(os.getcwd())\n",
    "try:\n",
    "    os.chdir(\"./Media\")\n",
    "except:\n",
    "    print(\"不能切換\")\n",
    "print(os.getcwd())    "
   ]
  },
  {
   "cell_type": "code",
   "execution_count": 94,
   "id": "56072c7c",
   "metadata": {},
   "outputs": [
    {
     "name": "stdout",
     "output_type": "stream",
     "text": [
      "C:\\Users\\xvpow\\aipython20230706\\Media\n",
      "['check.png', 'dir', 'Donut.png', 'fox1.png', 'peace.png', 'pizza1.png']\n"
     ]
    }
   ],
   "source": [
    "import os\n",
    "print(os.getcwd())\n",
    "print(os.listdir())\n",
    "images = os.listdir()\n",
    "for img in images:\n",
    "       img"
   ]
  },
  {
   "cell_type": "code",
   "execution_count": 99,
   "id": "c6bccf87",
   "metadata": {},
   "outputs": [
    {
     "name": "stdout",
     "output_type": "stream",
     "text": [
      "['check.png', 'dir', 'Donut.png', 'fox1.png', 'peace.png', 'pizza1.png']\n",
      "檔案: check.png\n",
      "目錄: dir\n",
      "檔案: Donut.png\n",
      "檔案: fox1.png\n",
      "檔案: peace.png\n",
      "檔案: pizza1.png\n"
     ]
    }
   ],
   "source": [
    "from os import listdir\n",
    "from os.path import isfile,isdir,join\n",
    "mypath = \"./Media\"\n",
    "files = listdir()\n",
    "print(files)\n",
    "for f in files:\n",
    "    #fullpath =  join(mypath,f)#路徑合併\n",
    "    #print(fullpath)\n",
    "    if isfile(f):\n",
    "        print(\"檔案:\",f)\n",
    "    elif isdir(f):\n",
    "         print(\"目錄:\",f)"
   ]
  },
  {
   "cell_type": "code",
   "execution_count": 10,
   "id": "813da4c7",
   "metadata": {},
   "outputs": [
    {
     "name": "stdout",
     "output_type": "stream",
     "text": [
      "C:\\Users\\xvpow\\aipython20230706\\Media\n",
      "路徑: .\n",
      "  目錄: ['dir']\n",
      "  檔案: ['check.png', 'Donut.png', 'fox1.png', 'peace.png', 'pizza1.png']\n",
      "路徑: .\\dir\n",
      "  目錄: ['dir1', 'dir2']\n",
      "  檔案: []\n",
      "路徑: .\\dir\\dir1\n",
      "  目錄: []\n",
      "  檔案: []\n",
      "路徑: .\\dir\\dir2\n",
      "  目錄: []\n",
      "  檔案: []\n"
     ]
    }
   ],
   "source": [
    "from os import walk\n",
    "import os\n",
    "print(os.getcwd())\n",
    "mypath = \".\"\n",
    "#mypath = \"./Media\"\n",
    "for root,dirs,files in walk(mypath):\n",
    "    print(\"路徑:\",root)\n",
    "    print(\"  目錄:\",dirs)\n",
    "    print(\"  檔案:\",files)"
   ]
  },
  {
   "cell_type": "code",
   "execution_count": 11,
   "id": "dc3f94a6",
   "metadata": {},
   "outputs": [],
   "source": [
    "import os\n",
    "os.mkdir(\"test\") #建立資料夾"
   ]
  },
  {
   "cell_type": "markdown",
   "id": "532c2f25",
   "metadata": {},
   "source": [
    "## 檔案存取\n",
    "\n",
    "file object = open(file_name [, access_mode])\n",
    "\n",
    "UTF8 編碼資料還請加入另一個參數才可避免亂碼：encoding=‘utf-8'\n",
    "file object = open(file_name [, access_mode])\n",
    "\n",
    "參數說明\n",
    "\n",
    "file_name：file_name 參數是一個字串資料，代表包含要連結的文件名稱。\n",
    "\n",
    "access_mode：access_mode 確定文件必須打開的模式，包括讀取、寫入、附加等等。稍後會列完整列表。這是可選參數，默認文件訪問模式為讀取(r)。\n",
    "\n",
    "|模式\t|可做操作|若檔案不存在|是否覆蓋|\n",
    "|----|--------|-----------|-------|\n",
    "|r\t|只能讀|報錯\t|-|\n",
    "|r+\t|可讀可寫|報錯|是|\n",
    "|w\t|只能寫|建立|是|\n",
    "|w+ |可讀可寫|建立|是|\n",
    "|a　|只能寫|建立|否，追加寫|\n",
    "|a+\t|可讀可寫|建立|否，追加寫|\n"
   ]
  },
  {
   "cell_type": "code",
   "execution_count": 16,
   "id": "266f82ec",
   "metadata": {},
   "outputs": [],
   "source": [
    "text = \"\"\"python與中文AAA\n",
    "1. 我們來試試看中文儲存能力。\n",
    "2. 許這個字會有編碼衝突風險。\n",
    "3. 犇這個字必須是utf8編碼才有。\n",
    "\"\"\"\n",
    "print(text,file=open('data.txt','w',encoding='utf-8'))"
   ]
  },
  {
   "cell_type": "code",
   "execution_count": 19,
   "id": "bf861d37",
   "metadata": {},
   "outputs": [
    {
     "name": "stdout",
     "output_type": "stream",
     "text": [
      "請輸入數字(quit離開)123\n",
      "請輸入數字(quit離開)567\n",
      "請輸入數字(quit離開)89\n",
      "請輸入數字(quit離開)100\n",
      "請輸入數字(quit離開)quit\n"
     ]
    }
   ],
   "source": [
    "dataList = []\n",
    "while True:\n",
    "    score = input(\"請輸入數字(quit離開)\")\n",
    "    if score == \"quit\":\n",
    "        break\n",
    "    dataList.append(score)\n",
    "file = open(\"score.txt\",'w',encoding='utf-8')\n",
    "file.write(str(dataList))\n",
    "file.close()"
   ]
  },
  {
   "cell_type": "code",
   "execution_count": 21,
   "id": "03e0e027",
   "metadata": {},
   "outputs": [
    {
     "name": "stdout",
     "output_type": "stream",
     "text": [
      "python與中文AAA\n",
      "1. 我們來試試看中文儲存能力。\n",
      "2. 許這個字會有編碼衝突風險。\n",
      "3. 犇這個字必須是utf8編碼才有。\n",
      "\n",
      "\n"
     ]
    }
   ],
   "source": [
    "f = open(\"data.txt\",'r',encoding=\"UTF-8\")\n",
    "content = f.read()\n",
    "print(content)\n",
    "f.close()"
   ]
  },
  {
   "cell_type": "markdown",
   "id": "c139b380",
   "metadata": {},
   "source": [
    "## CSV\n",
    "+ CSV 格式是資料庫最常用的導入和導出格式。\n",
    "+ 資料均沒有類型，一切都是字串。\n",
    "+ 沒有字體或顏色與儲存格寬度高度的設置。\n",
    "+ Python 語法必須加入 import csv。\n",
    "+ 讀取儲存格資料：\n",
    "  + reader( )：依照每一列的編號 由0開始\n",
    "  + DictReader( )\n",
    "    + 以第一列的值為每一行的名稱，第一列不是資料\n",
    "    + 也可以重新命名，但第一列必須是資料"
   ]
  },
  {
   "cell_type": "markdown",
   "id": "b4e3c618",
   "metadata": {},
   "source": [
    "### Read"
   ]
  },
  {
   "cell_type": "code",
   "execution_count": 24,
   "id": "1185fb26",
   "metadata": {
    "scrolled": true
   },
   "outputs": [
    {
     "name": "stdout",
     "output_type": "stream",
     "text": [
      " 104/01/03#2,640,781,030#64,138,886,194\n",
      " 104/01/17#3,720,277,205#101,133,309,290\n",
      " 104/01/30#4,540,373,544#143,900,658,474\n",
      " 104/01/31#5,486,734,180#162,361,181,834\n"
     ]
    }
   ],
   "source": [
    "import csv\n",
    "f = open(\"example1.csv\",\"r\")\n",
    "for row in csv.reader(f):\n",
    "    if  float(row[5]) > 100:\n",
    "        print(row[0],row[1],row[2],sep=\"#\")"
   ]
  },
  {
   "cell_type": "code",
   "execution_count": 26,
   "id": "b880ddc3",
   "metadata": {},
   "outputs": [
    {
     "name": "stdout",
     "output_type": "stream",
     "text": [
      "101.17\n",
      "29.59\n",
      "47.89\n",
      "85.83\n",
      "117.46\n",
      "12.61\n",
      "173.72\n",
      "109.67\n"
     ]
    }
   ],
   "source": [
    "import csv\n",
    "f = open(\"example.csv\",\"r\",encoding=\"utf-8\")\n",
    "for row in csv.DictReader(f):\n",
    "    if float(row[\"漲跌點數\"]) > 9.34:\n",
    "        print(row[\"漲跌點數\"])\n",
    "f.close()    "
   ]
  },
  {
   "cell_type": "code",
   "execution_count": 29,
   "id": "3c9ec684",
   "metadata": {},
   "outputs": [
    {
     "name": "stdout",
     "output_type": "stream",
     "text": [
      "<class '_csv.reader'>\n",
      "[[' 104/01/02', '2,104,640,545', '50,472,201,894', '497,889', '6,952.21', '-119.87'], [' 104/01/03', '2,640,781,030', '64,138,886,194', '623,192', '7,053.38', '101.17'], [' 104/01/04', '2,983,756,821', '75,845,629,353', '728,417', '7,082.97', '29.59'], [' 104/01/05', '3,062,757,248', '76,850,752,698', '737,780', '7,130.86', '47.89'], [' 104/01/06', '3,314,147,435', '88,101,921,548', '823,810', '7,120.51', '-10.35'], [' 104/01/09', '2,610,433,477', '71,323,370,369', '634,137', '7,093.04', '-27.47'], [' 104/01/10', '3,595,611,551', '97,168,542,017', '869,327', '7,178.87', '85.83'], [' 104/01/11', '3,322,390,467', '88,786,671,892', '802,539', '7,188.21', '9.34'], [' 104/01/12', '2,969,248,375', '78,947,910,460', '731,328', '7,186.58', '-1.63'], [' 104/01/13', '3,497,838,901', '99,286,437,370', '819,762', '7,181.54', '-5.04'], [' 104/01/16', '3,184,795,667', '76,842,611,338', '719,725', '7,103.62', '-77.92'], [' 104/01/17', '3,720,277,205', '101,133,309,290', '899,597', '7,221.08', '117.46'], [' 104/01/18', '4,088,756,925', '113,988,641,382', '1,020,420', '7,233.69', '12.61'], [' 104/01/30', '4,540,373,544', '143,900,658,474', '1,113,727', '7,407.41', '173.72'], [' 104/01/31', '5,486,734,180', '162,361,181,834', '1,283,951', '7,517.08', '109.67']]\n"
     ]
    }
   ],
   "source": [
    "import csv\n",
    "f = open(\"example1.csv\",\"r\",encoding=\"utf-8\")\n",
    "csvData = csv.reader(f)\n",
    "print(type(csvData))\n",
    "csvList = list(csvData)\n",
    "print(csvList)"
   ]
  },
  {
   "cell_type": "code",
   "execution_count": null,
   "id": "c5f2dfcd",
   "metadata": {},
   "outputs": [],
   "source": []
  }
 ],
 "metadata": {
  "kernelspec": {
   "display_name": "Python 3 (ipykernel)",
   "language": "python",
   "name": "python3"
  },
  "language_info": {
   "codemirror_mode": {
    "name": "ipython",
    "version": 3
   },
   "file_extension": ".py",
   "mimetype": "text/x-python",
   "name": "python",
   "nbconvert_exporter": "python",
   "pygments_lexer": "ipython3",
   "version": "3.8.16"
  }
 },
 "nbformat": 4,
 "nbformat_minor": 5
}
